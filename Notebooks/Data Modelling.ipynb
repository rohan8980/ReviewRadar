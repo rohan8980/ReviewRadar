{
 "cells": [
  {
   "cell_type": "code",
   "execution_count": null,
   "id": "8dcc95e3-2de9-4cb5-9dc3-10ad1b1f4470",
   "metadata": {},
   "outputs": [],
   "source": [
    "# Imports"
   ]
  },
  {
   "cell_type": "markdown",
   "id": "19c4b479-87a8-4194-a101-191e1b1e8322",
   "metadata": {},
   "source": [
    "## Read data from the file"
   ]
  },
  {
   "cell_type": "code",
   "execution_count": null,
   "id": "bbb511d5-a043-4311-b659-fa5d217d32e3",
   "metadata": {},
   "outputs": [],
   "source": [
    "file_path = os.path.join(os.getcwd(), '..', 'Data','2_PreProcessed.csv')\n",
    "df = pd.read_csv(file_path)"
   ]
  },
  {
   "cell_type": "code",
   "execution_count": null,
   "id": "4da4fd6a-ec66-4960-94c9-42aa347fd9ad",
   "metadata": {},
   "outputs": [],
   "source": [
    "df.head()"
   ]
  },
  {
   "cell_type": "markdown",
   "id": "5d30d40d-6346-4f51-9441-484c66c8ecf1",
   "metadata": {},
   "source": [
    "## Label Encoding"
   ]
  },
  {
   "cell_type": "code",
   "execution_count": null,
   "id": "8db0f2e8-8e00-4b0c-afb4-15a08ea3c38f",
   "metadata": {},
   "outputs": [],
   "source": []
  },
  {
   "cell_type": "markdown",
   "id": "d87a31f2-8a67-494e-aee8-c37584d908a4",
   "metadata": {},
   "source": [
    "## Vectorization"
   ]
  },
  {
   "cell_type": "code",
   "execution_count": null,
   "id": "a7e48d79-fd47-48f0-9412-e58e0abfa469",
   "metadata": {},
   "outputs": [],
   "source": []
  },
  {
   "cell_type": "markdown",
   "id": "ab98d937-253e-4dc7-bd0d-af8f4999459d",
   "metadata": {},
   "source": [
    "## Train Test Split"
   ]
  },
  {
   "cell_type": "code",
   "execution_count": null,
   "id": "1913ce65-b7b3-49c2-984c-6b074da1c66c",
   "metadata": {},
   "outputs": [],
   "source": []
  },
  {
   "cell_type": "markdown",
   "id": "d6e558ea-487f-4f33-ac4c-8a051a9a30d2",
   "metadata": {},
   "source": [
    "## Model Training"
   ]
  },
  {
   "cell_type": "code",
   "execution_count": null,
   "id": "3c513b61-6473-4b1b-ac85-a0081950f58a",
   "metadata": {},
   "outputs": [],
   "source": []
  },
  {
   "cell_type": "markdown",
   "id": "cf8ce4f3-1259-4579-bc8f-b48ca21f5ffb",
   "metadata": {},
   "source": [
    "## Evaluation on Test"
   ]
  },
  {
   "cell_type": "code",
   "execution_count": null,
   "id": "e41575d1-edf4-46b9-a0cf-9d47ae56ddb2",
   "metadata": {},
   "outputs": [],
   "source": []
  },
  {
   "cell_type": "code",
   "execution_count": null,
   "id": "2e5f934f-5d97-4445-9b5a-2c663970336e",
   "metadata": {},
   "outputs": [],
   "source": []
  },
  {
   "cell_type": "code",
   "execution_count": null,
   "id": "59ab0b0f-b029-442b-8118-55fdc97afa95",
   "metadata": {},
   "outputs": [],
   "source": []
  },
  {
   "cell_type": "code",
   "execution_count": null,
   "id": "13586ddd-82c8-48b8-9469-32dbe312ea3a",
   "metadata": {},
   "outputs": [],
   "source": []
  }
 ],
 "metadata": {
  "kernelspec": {
   "display_name": "Python 3 (ipykernel)",
   "language": "python",
   "name": "python3"
  },
  "language_info": {
   "codemirror_mode": {
    "name": "ipython",
    "version": 3
   },
   "file_extension": ".py",
   "mimetype": "text/x-python",
   "name": "python",
   "nbconvert_exporter": "python",
   "pygments_lexer": "ipython3",
   "version": "3.11.7"
  }
 },
 "nbformat": 4,
 "nbformat_minor": 5
}
