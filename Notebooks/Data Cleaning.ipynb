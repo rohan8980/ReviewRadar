{
 "cells": [
  {
   "cell_type": "code",
   "execution_count": 1,
   "id": "4c087ae3",
   "metadata": {},
   "outputs": [],
   "source": [
    "import pandas as pd\n",
    "import gzip\n",
    "import json\n",
    "import os\n",
    "import re"
   ]
  },
  {
   "cell_type": "markdown",
   "id": "b17f7f07",
   "metadata": {},
   "source": [
    "## Read data from file"
   ]
  },
  {
   "cell_type": "code",
   "execution_count": 2,
   "id": "33d348be",
   "metadata": {},
   "outputs": [],
   "source": [
    "file_path = os.path.join(os.getcwd(), '..', 'Data','Clothing_Shoes_and_Jewelry_5.json')\n",
    "chunks = []\n",
    "\n",
    "for chunk in pd.read_json(file_path, lines=True, chunksize=100000):\n",
    "    #chunk = chunk[selected_columns]  # Filter the DataFrame to keep only the selected columns\n",
    "    chunks.append(chunk)\n",
    "\n",
    "df = pd.concat(chunks, ignore_index=True)"
   ]
  },
  {
   "cell_type": "code",
   "execution_count": 3,
   "id": "9ff7662b",
   "metadata": {},
   "outputs": [
    {
     "data": {
      "text/html": [
       "<div>\n",
       "<style scoped>\n",
       "    .dataframe tbody tr th:only-of-type {\n",
       "        vertical-align: middle;\n",
       "    }\n",
       "\n",
       "    .dataframe tbody tr th {\n",
       "        vertical-align: top;\n",
       "    }\n",
       "\n",
       "    .dataframe thead th {\n",
       "        text-align: right;\n",
       "    }\n",
       "</style>\n",
       "<table border=\"1\" class=\"dataframe\">\n",
       "  <thead>\n",
       "    <tr style=\"text-align: right;\">\n",
       "      <th></th>\n",
       "      <th>overall</th>\n",
       "      <th>vote</th>\n",
       "      <th>verified</th>\n",
       "      <th>reviewTime</th>\n",
       "      <th>reviewerID</th>\n",
       "      <th>asin</th>\n",
       "      <th>style</th>\n",
       "      <th>reviewerName</th>\n",
       "      <th>reviewText</th>\n",
       "      <th>summary</th>\n",
       "      <th>unixReviewTime</th>\n",
       "      <th>image</th>\n",
       "    </tr>\n",
       "  </thead>\n",
       "  <tbody>\n",
       "    <tr>\n",
       "      <th>0</th>\n",
       "      <td>5</td>\n",
       "      <td>2.0</td>\n",
       "      <td>True</td>\n",
       "      <td>05 4, 2014</td>\n",
       "      <td>A2IC3NZN488KWK</td>\n",
       "      <td>0871167042</td>\n",
       "      <td>{'Format:': ' Paperback'}</td>\n",
       "      <td>Ruby Tulip</td>\n",
       "      <td>This book has beautiful photos, good and under...</td>\n",
       "      <td>Unique designs</td>\n",
       "      <td>1399161600</td>\n",
       "      <td>NaN</td>\n",
       "    </tr>\n",
       "    <tr>\n",
       "      <th>1</th>\n",
       "      <td>5</td>\n",
       "      <td>NaN</td>\n",
       "      <td>True</td>\n",
       "      <td>03 31, 2014</td>\n",
       "      <td>A30FG02C424EJ5</td>\n",
       "      <td>0871167042</td>\n",
       "      <td>{'Format:': ' Paperback'}</td>\n",
       "      <td>NWCancerBaby</td>\n",
       "      <td>Loved their approach in this book and that it ...</td>\n",
       "      <td>Great Book</td>\n",
       "      <td>1396224000</td>\n",
       "      <td>NaN</td>\n",
       "    </tr>\n",
       "    <tr>\n",
       "      <th>2</th>\n",
       "      <td>5</td>\n",
       "      <td>NaN</td>\n",
       "      <td>True</td>\n",
       "      <td>05 30, 2015</td>\n",
       "      <td>A2G9GWQEWWNQUB</td>\n",
       "      <td>0871167042</td>\n",
       "      <td>{'Format:': ' Paperback'}</td>\n",
       "      <td>Pamelarenee</td>\n",
       "      <td>great</td>\n",
       "      <td>Five Stars</td>\n",
       "      <td>1432944000</td>\n",
       "      <td>NaN</td>\n",
       "    </tr>\n",
       "    <tr>\n",
       "      <th>3</th>\n",
       "      <td>5</td>\n",
       "      <td>NaN</td>\n",
       "      <td>True</td>\n",
       "      <td>02 21, 2015</td>\n",
       "      <td>A3NI5OGW35SLY2</td>\n",
       "      <td>0871167042</td>\n",
       "      <td>{'Format:': ' Paperback'}</td>\n",
       "      <td>Gail</td>\n",
       "      <td>Always love the way Eva thinks, and there are ...</td>\n",
       "      <td>Great Book!</td>\n",
       "      <td>1424476800</td>\n",
       "      <td>NaN</td>\n",
       "    </tr>\n",
       "    <tr>\n",
       "      <th>4</th>\n",
       "      <td>5</td>\n",
       "      <td>NaN</td>\n",
       "      <td>True</td>\n",
       "      <td>01 21, 2015</td>\n",
       "      <td>A1OPRA4NE56EV6</td>\n",
       "      <td>0871167042</td>\n",
       "      <td>{'Format:': ' Paperback'}</td>\n",
       "      <td>carol a inman</td>\n",
       "      <td>Nice patterns</td>\n",
       "      <td>Five Stars</td>\n",
       "      <td>1421798400</td>\n",
       "      <td>NaN</td>\n",
       "    </tr>\n",
       "  </tbody>\n",
       "</table>\n",
       "</div>"
      ],
      "text/plain": [
       "   overall vote  verified   reviewTime      reviewerID        asin  \\\n",
       "0        5  2.0      True   05 4, 2014  A2IC3NZN488KWK  0871167042   \n",
       "1        5  NaN      True  03 31, 2014  A30FG02C424EJ5  0871167042   \n",
       "2        5  NaN      True  05 30, 2015  A2G9GWQEWWNQUB  0871167042   \n",
       "3        5  NaN      True  02 21, 2015  A3NI5OGW35SLY2  0871167042   \n",
       "4        5  NaN      True  01 21, 2015  A1OPRA4NE56EV6  0871167042   \n",
       "\n",
       "                       style   reviewerName  \\\n",
       "0  {'Format:': ' Paperback'}     Ruby Tulip   \n",
       "1  {'Format:': ' Paperback'}   NWCancerBaby   \n",
       "2  {'Format:': ' Paperback'}    Pamelarenee   \n",
       "3  {'Format:': ' Paperback'}           Gail   \n",
       "4  {'Format:': ' Paperback'}  carol a inman   \n",
       "\n",
       "                                          reviewText         summary  \\\n",
       "0  This book has beautiful photos, good and under...  Unique designs   \n",
       "1  Loved their approach in this book and that it ...      Great Book   \n",
       "2                                              great      Five Stars   \n",
       "3  Always love the way Eva thinks, and there are ...     Great Book!   \n",
       "4                                      Nice patterns      Five Stars   \n",
       "\n",
       "   unixReviewTime image  \n",
       "0      1399161600   NaN  \n",
       "1      1396224000   NaN  \n",
       "2      1432944000   NaN  \n",
       "3      1424476800   NaN  \n",
       "4      1421798400   NaN  "
      ]
     },
     "execution_count": 3,
     "metadata": {},
     "output_type": "execute_result"
    }
   ],
   "source": [
    "df.head()"
   ]
  },
  {
   "cell_type": "code",
   "execution_count": 4,
   "id": "d45315ea",
   "metadata": {},
   "outputs": [
    {
     "name": "stdout",
     "output_type": "stream",
     "text": [
      "<class 'pandas.core.frame.DataFrame'>\n",
      "RangeIndex: 11285464 entries, 0 to 11285463\n",
      "Data columns (total 12 columns):\n",
      " #   Column          Dtype \n",
      "---  ------          ----- \n",
      " 0   overall         int64 \n",
      " 1   vote            object\n",
      " 2   verified        bool  \n",
      " 3   reviewTime      object\n",
      " 4   reviewerID      object\n",
      " 5   asin            object\n",
      " 6   style           object\n",
      " 7   reviewerName    object\n",
      " 8   reviewText      object\n",
      " 9   summary         object\n",
      " 10  unixReviewTime  int64 \n",
      " 11  image           object\n",
      "dtypes: bool(1), int64(2), object(9)\n",
      "memory usage: 957.9+ MB\n"
     ]
    }
   ],
   "source": [
    "df.info()"
   ]
  },
  {
   "cell_type": "markdown",
   "id": "a1f81005",
   "metadata": {},
   "source": [
    "## Duplicates removal"
   ]
  },
  {
   "cell_type": "code",
   "execution_count": 5,
   "id": "3ce26bbb",
   "metadata": {},
   "outputs": [
    {
     "data": {
      "text/html": [
       "<div>\n",
       "<style scoped>\n",
       "    .dataframe tbody tr th:only-of-type {\n",
       "        vertical-align: middle;\n",
       "    }\n",
       "\n",
       "    .dataframe tbody tr th {\n",
       "        vertical-align: top;\n",
       "    }\n",
       "\n",
       "    .dataframe thead th {\n",
       "        text-align: right;\n",
       "    }\n",
       "</style>\n",
       "<table border=\"1\" class=\"dataframe\">\n",
       "  <thead>\n",
       "    <tr style=\"text-align: right;\">\n",
       "      <th></th>\n",
       "      <th>overall</th>\n",
       "      <th>vote</th>\n",
       "      <th>verified</th>\n",
       "      <th>reviewTime</th>\n",
       "      <th>reviewerID</th>\n",
       "      <th>asin</th>\n",
       "      <th>style</th>\n",
       "      <th>reviewerName</th>\n",
       "      <th>reviewText</th>\n",
       "      <th>summary</th>\n",
       "      <th>unixReviewTime</th>\n",
       "      <th>image</th>\n",
       "    </tr>\n",
       "  </thead>\n",
       "  <tbody>\n",
       "    <tr>\n",
       "      <th>3206666</th>\n",
       "      <td>5</td>\n",
       "      <td>NaN</td>\n",
       "      <td>True</td>\n",
       "      <td>11 9, 2016</td>\n",
       "      <td>A001170867ZBE9FORRQL</td>\n",
       "      <td>B006PDD2SI</td>\n",
       "      <td>{'Size:': ' Medium', 'Color:': ' White, Nights...</td>\n",
       "      <td>Amber</td>\n",
       "      <td>Gift, he loves it.</td>\n",
       "      <td>Five Stars</td>\n",
       "      <td>1478649600</td>\n",
       "      <td>NaN</td>\n",
       "    </tr>\n",
       "    <tr>\n",
       "      <th>3314647</th>\n",
       "      <td>5</td>\n",
       "      <td>NaN</td>\n",
       "      <td>True</td>\n",
       "      <td>11 9, 2016</td>\n",
       "      <td>A001170867ZBE9FORRQL</td>\n",
       "      <td>B0076RL90K</td>\n",
       "      <td>{'Size:': ' Medium', 'Color:': ' Black'}</td>\n",
       "      <td>Amber</td>\n",
       "      <td>Gift, he loves it.</td>\n",
       "      <td>Five Stars</td>\n",
       "      <td>1478649600</td>\n",
       "      <td>NaN</td>\n",
       "    </tr>\n",
       "    <tr>\n",
       "      <th>1630981</th>\n",
       "      <td>5</td>\n",
       "      <td>NaN</td>\n",
       "      <td>True</td>\n",
       "      <td>12 15, 2016</td>\n",
       "      <td>A001170867ZBE9FORRQL</td>\n",
       "      <td>B001LRNGZC</td>\n",
       "      <td>{'Size:': ' Large', 'Color:': ' Dark Navy'}</td>\n",
       "      <td>Amber</td>\n",
       "      <td>Good shirt.</td>\n",
       "      <td>Good shirt.</td>\n",
       "      <td>1481760000</td>\n",
       "      <td>NaN</td>\n",
       "    </tr>\n",
       "    <tr>\n",
       "      <th>1631512</th>\n",
       "      <td>5</td>\n",
       "      <td>NaN</td>\n",
       "      <td>True</td>\n",
       "      <td>12 15, 2016</td>\n",
       "      <td>A001170867ZBE9FORRQL</td>\n",
       "      <td>B001LRR9IM</td>\n",
       "      <td>NaN</td>\n",
       "      <td>Amber</td>\n",
       "      <td>Good shirt.</td>\n",
       "      <td>Good shirt.</td>\n",
       "      <td>1481760000</td>\n",
       "      <td>NaN</td>\n",
       "    </tr>\n",
       "    <tr>\n",
       "      <th>4884748</th>\n",
       "      <td>1</td>\n",
       "      <td>NaN</td>\n",
       "      <td>True</td>\n",
       "      <td>11 30, 2017</td>\n",
       "      <td>A00181966XZUX7KEGYLH</td>\n",
       "      <td>B00FC1W5IC</td>\n",
       "      <td>{'Size:': ' 9 B(M) US', 'Color:': ' Dark Camel...</td>\n",
       "      <td>Amber Ashley</td>\n",
       "      <td>I didn't even put these on my feet because as ...</td>\n",
       "      <td>Dont waste your time or money</td>\n",
       "      <td>1512000000</td>\n",
       "      <td>NaN</td>\n",
       "    </tr>\n",
       "    <tr>\n",
       "      <th>...</th>\n",
       "      <td>...</td>\n",
       "      <td>...</td>\n",
       "      <td>...</td>\n",
       "      <td>...</td>\n",
       "      <td>...</td>\n",
       "      <td>...</td>\n",
       "      <td>...</td>\n",
       "      <td>...</td>\n",
       "      <td>...</td>\n",
       "      <td>...</td>\n",
       "      <td>...</td>\n",
       "      <td>...</td>\n",
       "    </tr>\n",
       "    <tr>\n",
       "      <th>1234576</th>\n",
       "      <td>5</td>\n",
       "      <td>NaN</td>\n",
       "      <td>True</td>\n",
       "      <td>04 25, 2014</td>\n",
       "      <td>AZZZMCJO078D2</td>\n",
       "      <td>B0013EOJQS</td>\n",
       "      <td>{'Color:': ' Fuchsia'}</td>\n",
       "      <td>Wendy</td>\n",
       "      <td>This scarf is all it has been made out to be! ...</td>\n",
       "      <td>Warm &amp; Beautiful</td>\n",
       "      <td>1398384000</td>\n",
       "      <td>NaN</td>\n",
       "    </tr>\n",
       "    <tr>\n",
       "      <th>531982</th>\n",
       "      <td>5</td>\n",
       "      <td>NaN</td>\n",
       "      <td>True</td>\n",
       "      <td>08 3, 2016</td>\n",
       "      <td>AZZZV0D9D5V05</td>\n",
       "      <td>B000MXIMKK</td>\n",
       "      <td>{'Size:': ' 32W x 29L', 'Color:': ' Black'}</td>\n",
       "      <td>Greg Golson</td>\n",
       "      <td>Just as described. Fit great.</td>\n",
       "      <td>Fit great.</td>\n",
       "      <td>1470182400</td>\n",
       "      <td>NaN</td>\n",
       "    </tr>\n",
       "    <tr>\n",
       "      <th>536737</th>\n",
       "      <td>5</td>\n",
       "      <td>NaN</td>\n",
       "      <td>True</td>\n",
       "      <td>08 3, 2016</td>\n",
       "      <td>AZZZV0D9D5V05</td>\n",
       "      <td>B000MXQ2CU</td>\n",
       "      <td>{'Size:': ' 32W x 29L', 'Color:': ' Black'}</td>\n",
       "      <td>Greg Golson</td>\n",
       "      <td>Just as described. Fit great.</td>\n",
       "      <td>Fit great.</td>\n",
       "      <td>1470182400</td>\n",
       "      <td>NaN</td>\n",
       "    </tr>\n",
       "    <tr>\n",
       "      <th>746473</th>\n",
       "      <td>5</td>\n",
       "      <td>NaN</td>\n",
       "      <td>True</td>\n",
       "      <td>08 3, 2016</td>\n",
       "      <td>AZZZV0D9D5V05</td>\n",
       "      <td>B000WTOCS0</td>\n",
       "      <td>NaN</td>\n",
       "      <td>Greg Golson</td>\n",
       "      <td>Just as described. Fit great.</td>\n",
       "      <td>Fit great.</td>\n",
       "      <td>1470182400</td>\n",
       "      <td>NaN</td>\n",
       "    </tr>\n",
       "    <tr>\n",
       "      <th>1064466</th>\n",
       "      <td>5</td>\n",
       "      <td>NaN</td>\n",
       "      <td>True</td>\n",
       "      <td>08 3, 2016</td>\n",
       "      <td>AZZZV0D9D5V05</td>\n",
       "      <td>B000WTOCS0</td>\n",
       "      <td>NaN</td>\n",
       "      <td>Greg Golson</td>\n",
       "      <td>Just as described. Fit great.</td>\n",
       "      <td>Fit great.</td>\n",
       "      <td>1470182400</td>\n",
       "      <td>NaN</td>\n",
       "    </tr>\n",
       "  </tbody>\n",
       "</table>\n",
       "<p>2930232 rows × 12 columns</p>\n",
       "</div>"
      ],
      "text/plain": [
       "         overall vote  verified   reviewTime            reviewerID  \\\n",
       "3206666        5  NaN      True   11 9, 2016  A001170867ZBE9FORRQL   \n",
       "3314647        5  NaN      True   11 9, 2016  A001170867ZBE9FORRQL   \n",
       "1630981        5  NaN      True  12 15, 2016  A001170867ZBE9FORRQL   \n",
       "1631512        5  NaN      True  12 15, 2016  A001170867ZBE9FORRQL   \n",
       "4884748        1  NaN      True  11 30, 2017  A00181966XZUX7KEGYLH   \n",
       "...          ...  ...       ...          ...                   ...   \n",
       "1234576        5  NaN      True  04 25, 2014         AZZZMCJO078D2   \n",
       "531982         5  NaN      True   08 3, 2016         AZZZV0D9D5V05   \n",
       "536737         5  NaN      True   08 3, 2016         AZZZV0D9D5V05   \n",
       "746473         5  NaN      True   08 3, 2016         AZZZV0D9D5V05   \n",
       "1064466        5  NaN      True   08 3, 2016         AZZZV0D9D5V05   \n",
       "\n",
       "               asin                                              style  \\\n",
       "3206666  B006PDD2SI  {'Size:': ' Medium', 'Color:': ' White, Nights...   \n",
       "3314647  B0076RL90K           {'Size:': ' Medium', 'Color:': ' Black'}   \n",
       "1630981  B001LRNGZC        {'Size:': ' Large', 'Color:': ' Dark Navy'}   \n",
       "1631512  B001LRR9IM                                                NaN   \n",
       "4884748  B00FC1W5IC  {'Size:': ' 9 B(M) US', 'Color:': ' Dark Camel...   \n",
       "...             ...                                                ...   \n",
       "1234576  B0013EOJQS                             {'Color:': ' Fuchsia'}   \n",
       "531982   B000MXIMKK        {'Size:': ' 32W x 29L', 'Color:': ' Black'}   \n",
       "536737   B000MXQ2CU        {'Size:': ' 32W x 29L', 'Color:': ' Black'}   \n",
       "746473   B000WTOCS0                                                NaN   \n",
       "1064466  B000WTOCS0                                                NaN   \n",
       "\n",
       "         reviewerName                                         reviewText  \\\n",
       "3206666         Amber                                 Gift, he loves it.   \n",
       "3314647         Amber                                 Gift, he loves it.   \n",
       "1630981         Amber                                        Good shirt.   \n",
       "1631512         Amber                                        Good shirt.   \n",
       "4884748  Amber Ashley  I didn't even put these on my feet because as ...   \n",
       "...               ...                                                ...   \n",
       "1234576         Wendy  This scarf is all it has been made out to be! ...   \n",
       "531982    Greg Golson                      Just as described. Fit great.   \n",
       "536737    Greg Golson                      Just as described. Fit great.   \n",
       "746473    Greg Golson                      Just as described. Fit great.   \n",
       "1064466   Greg Golson                      Just as described. Fit great.   \n",
       "\n",
       "                               summary  unixReviewTime image  \n",
       "3206666                     Five Stars      1478649600   NaN  \n",
       "3314647                     Five Stars      1478649600   NaN  \n",
       "1630981                    Good shirt.      1481760000   NaN  \n",
       "1631512                    Good shirt.      1481760000   NaN  \n",
       "4884748  Dont waste your time or money      1512000000   NaN  \n",
       "...                                ...             ...   ...  \n",
       "1234576               Warm & Beautiful      1398384000   NaN  \n",
       "531982                      Fit great.      1470182400   NaN  \n",
       "536737                      Fit great.      1470182400   NaN  \n",
       "746473                      Fit great.      1470182400   NaN  \n",
       "1064466                     Fit great.      1470182400   NaN  \n",
       "\n",
       "[2930232 rows x 12 columns]"
      ]
     },
     "execution_count": 5,
     "metadata": {},
     "output_type": "execute_result"
    }
   ],
   "source": [
    "## Same user adding review for different products(asin) at the same time is not possible\n",
    "df[df.duplicated(subset=['reviewerID', 'reviewerName', 'reviewTime', 'reviewText'], keep=False)].sort_values(by=['reviewerID', 'reviewerName', 'reviewTime', 'reviewText'])"
   ]
  },
  {
   "cell_type": "code",
   "execution_count": 6,
   "id": "b6140481",
   "metadata": {},
   "outputs": [],
   "source": [
    "#removing identified Duplicates\n",
    "df = df.drop_duplicates(subset=['reviewerID', 'reviewerName', 'reviewTime', 'reviewText'], keep = 'first').reset_index(drop=True)"
   ]
  },
  {
   "cell_type": "code",
   "execution_count": 7,
   "id": "c6ec5128",
   "metadata": {},
   "outputs": [
    {
     "name": "stdout",
     "output_type": "stream",
     "text": [
      "<class 'pandas.core.frame.DataFrame'>\n",
      "RangeIndex: 9271774 entries, 0 to 9271773\n",
      "Data columns (total 12 columns):\n",
      " #   Column          Dtype \n",
      "---  ------          ----- \n",
      " 0   overall         int64 \n",
      " 1   vote            object\n",
      " 2   verified        bool  \n",
      " 3   reviewTime      object\n",
      " 4   reviewerID      object\n",
      " 5   asin            object\n",
      " 6   style           object\n",
      " 7   reviewerName    object\n",
      " 8   reviewText      object\n",
      " 9   summary         object\n",
      " 10  unixReviewTime  int64 \n",
      " 11  image           object\n",
      "dtypes: bool(1), int64(2), object(9)\n",
      "memory usage: 787.0+ MB\n"
     ]
    }
   ],
   "source": [
    "df.info()"
   ]
  },
  {
   "cell_type": "markdown",
   "id": "fd37fc20",
   "metadata": {},
   "source": [
    "#### 9271774 clean rows left after removal of duplicate rows from a total of 11285464 rows. "
   ]
  },
  {
   "cell_type": "markdown",
   "id": "4c2fc16a",
   "metadata": {},
   "source": [
    "## Feature Selection"
   ]
  },
  {
   "cell_type": "code",
   "execution_count": 8,
   "id": "894ed608",
   "metadata": {},
   "outputs": [],
   "source": [
    "selected_columns = [\"overall\", \"summary\", \"reviewText\"]\n",
    "df = df[selected_columns]"
   ]
  },
  {
   "cell_type": "code",
   "execution_count": 9,
   "id": "2a260f3a",
   "metadata": {},
   "outputs": [
    {
     "data": {
      "text/html": [
       "<div>\n",
       "<style scoped>\n",
       "    .dataframe tbody tr th:only-of-type {\n",
       "        vertical-align: middle;\n",
       "    }\n",
       "\n",
       "    .dataframe tbody tr th {\n",
       "        vertical-align: top;\n",
       "    }\n",
       "\n",
       "    .dataframe thead th {\n",
       "        text-align: right;\n",
       "    }\n",
       "</style>\n",
       "<table border=\"1\" class=\"dataframe\">\n",
       "  <thead>\n",
       "    <tr style=\"text-align: right;\">\n",
       "      <th></th>\n",
       "      <th>overall</th>\n",
       "      <th>summary</th>\n",
       "      <th>reviewText</th>\n",
       "    </tr>\n",
       "  </thead>\n",
       "  <tbody>\n",
       "    <tr>\n",
       "      <th>0</th>\n",
       "      <td>5</td>\n",
       "      <td>Unique designs</td>\n",
       "      <td>This book has beautiful photos, good and under...</td>\n",
       "    </tr>\n",
       "    <tr>\n",
       "      <th>1</th>\n",
       "      <td>5</td>\n",
       "      <td>Great Book</td>\n",
       "      <td>Loved their approach in this book and that it ...</td>\n",
       "    </tr>\n",
       "    <tr>\n",
       "      <th>2</th>\n",
       "      <td>5</td>\n",
       "      <td>Five Stars</td>\n",
       "      <td>great</td>\n",
       "    </tr>\n",
       "    <tr>\n",
       "      <th>3</th>\n",
       "      <td>5</td>\n",
       "      <td>Great Book!</td>\n",
       "      <td>Always love the way Eva thinks, and there are ...</td>\n",
       "    </tr>\n",
       "    <tr>\n",
       "      <th>4</th>\n",
       "      <td>5</td>\n",
       "      <td>Five Stars</td>\n",
       "      <td>Nice patterns</td>\n",
       "    </tr>\n",
       "  </tbody>\n",
       "</table>\n",
       "</div>"
      ],
      "text/plain": [
       "   overall         summary                                         reviewText\n",
       "0        5  Unique designs  This book has beautiful photos, good and under...\n",
       "1        5      Great Book  Loved their approach in this book and that it ...\n",
       "2        5      Five Stars                                              great\n",
       "3        5     Great Book!  Always love the way Eva thinks, and there are ...\n",
       "4        5      Five Stars                                      Nice patterns"
      ]
     },
     "execution_count": 9,
     "metadata": {},
     "output_type": "execute_result"
    }
   ],
   "source": [
    "df.head()"
   ]
  },
  {
   "cell_type": "markdown",
   "id": "c3bf4368",
   "metadata": {},
   "source": [
    "## Merging `summary` and `reviewText` into single column `reviewText`"
   ]
  },
  {
   "cell_type": "code",
   "execution_count": 10,
   "id": "d2e019f9",
   "metadata": {},
   "outputs": [],
   "source": [
    "df['reviewText']  = df['summary'].fillna('') + ' ' + df['reviewText'].fillna('')"
   ]
  },
  {
   "cell_type": "code",
   "execution_count": 11,
   "id": "5b526d3b",
   "metadata": {},
   "outputs": [],
   "source": [
    "df['reviewText'] = df['reviewText'].str.strip()"
   ]
  },
  {
   "cell_type": "code",
   "execution_count": 12,
   "id": "f9e21b8f",
   "metadata": {},
   "outputs": [
    {
     "name": "stdout",
     "output_type": "stream",
     "text": [
      "<class 'pandas.core.frame.DataFrame'>\n",
      "RangeIndex: 9271774 entries, 0 to 9271773\n",
      "Data columns (total 3 columns):\n",
      " #   Column      Dtype \n",
      "---  ------      ----- \n",
      " 0   overall     int64 \n",
      " 1   summary     object\n",
      " 2   reviewText  object\n",
      "dtypes: int64(1), object(2)\n",
      "memory usage: 212.2+ MB\n"
     ]
    }
   ],
   "source": [
    "df.info()"
   ]
  },
  {
   "cell_type": "code",
   "execution_count": 13,
   "id": "caf5e24f",
   "metadata": {},
   "outputs": [
    {
     "data": {
      "text/html": [
       "<div>\n",
       "<style scoped>\n",
       "    .dataframe tbody tr th:only-of-type {\n",
       "        vertical-align: middle;\n",
       "    }\n",
       "\n",
       "    .dataframe tbody tr th {\n",
       "        vertical-align: top;\n",
       "    }\n",
       "\n",
       "    .dataframe thead th {\n",
       "        text-align: right;\n",
       "    }\n",
       "</style>\n",
       "<table border=\"1\" class=\"dataframe\">\n",
       "  <thead>\n",
       "    <tr style=\"text-align: right;\">\n",
       "      <th></th>\n",
       "      <th>overall</th>\n",
       "      <th>summary</th>\n",
       "      <th>reviewText</th>\n",
       "    </tr>\n",
       "  </thead>\n",
       "  <tbody>\n",
       "    <tr>\n",
       "      <th>0</th>\n",
       "      <td>5</td>\n",
       "      <td>Unique designs</td>\n",
       "      <td>Unique designs This book has beautiful photos,...</td>\n",
       "    </tr>\n",
       "    <tr>\n",
       "      <th>1</th>\n",
       "      <td>5</td>\n",
       "      <td>Great Book</td>\n",
       "      <td>Great Book Loved their approach in this book a...</td>\n",
       "    </tr>\n",
       "    <tr>\n",
       "      <th>2</th>\n",
       "      <td>5</td>\n",
       "      <td>Five Stars</td>\n",
       "      <td>Five Stars great</td>\n",
       "    </tr>\n",
       "    <tr>\n",
       "      <th>3</th>\n",
       "      <td>5</td>\n",
       "      <td>Great Book!</td>\n",
       "      <td>Great Book! Always love the way Eva thinks, an...</td>\n",
       "    </tr>\n",
       "    <tr>\n",
       "      <th>4</th>\n",
       "      <td>5</td>\n",
       "      <td>Five Stars</td>\n",
       "      <td>Five Stars Nice patterns</td>\n",
       "    </tr>\n",
       "  </tbody>\n",
       "</table>\n",
       "</div>"
      ],
      "text/plain": [
       "   overall         summary                                         reviewText\n",
       "0        5  Unique designs  Unique designs This book has beautiful photos,...\n",
       "1        5      Great Book  Great Book Loved their approach in this book a...\n",
       "2        5      Five Stars                                   Five Stars great\n",
       "3        5     Great Book!  Great Book! Always love the way Eva thinks, an...\n",
       "4        5      Five Stars                           Five Stars Nice patterns"
      ]
     },
     "execution_count": 13,
     "metadata": {},
     "output_type": "execute_result"
    }
   ],
   "source": [
    "df.head()"
   ]
  },
  {
   "cell_type": "code",
   "execution_count": 14,
   "id": "313378a6",
   "metadata": {},
   "outputs": [],
   "source": [
    "df.drop(['summary'], axis=1, inplace=True)"
   ]
  },
  {
   "cell_type": "code",
   "execution_count": 15,
   "id": "c357152b",
   "metadata": {},
   "outputs": [
    {
     "name": "stdout",
     "output_type": "stream",
     "text": [
      "<class 'pandas.core.frame.DataFrame'>\n",
      "RangeIndex: 9271774 entries, 0 to 9271773\n",
      "Data columns (total 2 columns):\n",
      " #   Column      Dtype \n",
      "---  ------      ----- \n",
      " 0   overall     int64 \n",
      " 1   reviewText  object\n",
      "dtypes: int64(1), object(1)\n",
      "memory usage: 141.5+ MB\n"
     ]
    }
   ],
   "source": [
    "df.info()"
   ]
  },
  {
   "cell_type": "markdown",
   "id": "b698cef9",
   "metadata": {},
   "source": [
    "## Checking for NA"
   ]
  },
  {
   "cell_type": "code",
   "execution_count": 16,
   "id": "399ec6cd",
   "metadata": {},
   "outputs": [],
   "source": [
    "## replacing white spaces with NaN in review\n",
    "df['reviewText'].replace(r'^\\s*$', pd.NA, regex=True, inplace=True)"
   ]
  },
  {
   "cell_type": "code",
   "execution_count": 17,
   "id": "034819b0",
   "metadata": {},
   "outputs": [],
   "source": [
    "df.dropna(inplace=True)"
   ]
  },
  {
   "cell_type": "code",
   "execution_count": 18,
   "id": "97ee7b78",
   "metadata": {},
   "outputs": [
    {
     "data": {
      "image/png": "[encoded data removed]",
      "text/plain": [
       "<Figure size 1800x300 with 2 Axes>"
      ]
     },
     "metadata": {},
     "output_type": "display_data"
    }
   ],
   "source": [
    "import missingno as msno # pip install missingno\n",
    "msno.matrix(df, figsize=(18, 3), label_rotation=20);"
   ]
  },
  {
   "cell_type": "code",
   "execution_count": 19,
   "id": "8b342b72",
   "metadata": {},
   "outputs": [
    {
     "data": {
      "text/plain": [
       "overall       0\n",
       "reviewText    0\n",
       "dtype: int64"
      ]
     },
     "execution_count": 19,
     "metadata": {},
     "output_type": "execute_result"
    }
   ],
   "source": [
    "df.isna().sum()"
   ]
  },
  {
   "cell_type": "markdown",
   "id": "761801ac",
   "metadata": {},
   "source": [
    "## Renaming columns"
   ]
  },
  {
   "cell_type": "code",
   "execution_count": 20,
   "id": "4b227583",
   "metadata": {},
   "outputs": [],
   "source": [
    "df.rename(columns={'overall': 'rating', 'reviewText': 'review'}, inplace=True)"
   ]
  },
  {
   "cell_type": "code",
   "execution_count": 21,
   "id": "209b7bb6",
   "metadata": {},
   "outputs": [
    {
     "data": {
      "text/html": [
       "<div>\n",
       "<style scoped>\n",
       "    .dataframe tbody tr th:only-of-type {\n",
       "        vertical-align: middle;\n",
       "    }\n",
       "\n",
       "    .dataframe tbody tr th {\n",
       "        vertical-align: top;\n",
       "    }\n",
       "\n",
       "    .dataframe thead th {\n",
       "        text-align: right;\n",
       "    }\n",
       "</style>\n",
       "<table border=\"1\" class=\"dataframe\">\n",
       "  <thead>\n",
       "    <tr style=\"text-align: right;\">\n",
       "      <th></th>\n",
       "      <th>rating</th>\n",
       "      <th>review</th>\n",
       "    </tr>\n",
       "  </thead>\n",
       "  <tbody>\n",
       "    <tr>\n",
       "      <th>0</th>\n",
       "      <td>5</td>\n",
       "      <td>Unique designs This book has beautiful photos,...</td>\n",
       "    </tr>\n",
       "    <tr>\n",
       "      <th>1</th>\n",
       "      <td>5</td>\n",
       "      <td>Great Book Loved their approach in this book a...</td>\n",
       "    </tr>\n",
       "    <tr>\n",
       "      <th>2</th>\n",
       "      <td>5</td>\n",
       "      <td>Five Stars great</td>\n",
       "    </tr>\n",
       "    <tr>\n",
       "      <th>3</th>\n",
       "      <td>5</td>\n",
       "      <td>Great Book! Always love the way Eva thinks, an...</td>\n",
       "    </tr>\n",
       "    <tr>\n",
       "      <th>4</th>\n",
       "      <td>5</td>\n",
       "      <td>Five Stars Nice patterns</td>\n",
       "    </tr>\n",
       "  </tbody>\n",
       "</table>\n",
       "</div>"
      ],
      "text/plain": [
       "   rating                                             review\n",
       "0       5  Unique designs This book has beautiful photos,...\n",
       "1       5  Great Book Loved their approach in this book a...\n",
       "2       5                                   Five Stars great\n",
       "3       5  Great Book! Always love the way Eva thinks, an...\n",
       "4       5                           Five Stars Nice patterns"
      ]
     },
     "execution_count": 21,
     "metadata": {},
     "output_type": "execute_result"
    }
   ],
   "source": [
    "df.head()"
   ]
  },
  {
   "cell_type": "markdown",
   "id": "562e3095",
   "metadata": {},
   "source": [
    "## Updating rating (overall) column to 2 classes"
   ]
  },
  {
   "cell_type": "code",
   "execution_count": 22,
   "id": "93e07edc",
   "metadata": {},
   "outputs": [
    {
     "data": {
      "text/html": [
       "<div>\n",
       "<style scoped>\n",
       "    .dataframe tbody tr th:only-of-type {\n",
       "        vertical-align: middle;\n",
       "    }\n",
       "\n",
       "    .dataframe tbody tr th {\n",
       "        vertical-align: top;\n",
       "    }\n",
       "\n",
       "    .dataframe thead th {\n",
       "        text-align: right;\n",
       "    }\n",
       "</style>\n",
       "<table border=\"1\" class=\"dataframe\">\n",
       "  <thead>\n",
       "    <tr style=\"text-align: right;\">\n",
       "      <th></th>\n",
       "      <th>Rating</th>\n",
       "      <th>% of Total rows</th>\n",
       "    </tr>\n",
       "  </thead>\n",
       "  <tbody>\n",
       "    <tr>\n",
       "      <th>5</th>\n",
       "      <td>5658940</td>\n",
       "      <td>61.035198</td>\n",
       "    </tr>\n",
       "    <tr>\n",
       "      <th>4</th>\n",
       "      <td>1741927</td>\n",
       "      <td>18.787769</td>\n",
       "    </tr>\n",
       "    <tr>\n",
       "      <th>3</th>\n",
       "      <td>922680</td>\n",
       "      <td>9.951679</td>\n",
       "    </tr>\n",
       "    <tr>\n",
       "      <th>2</th>\n",
       "      <td>493178</td>\n",
       "      <td>5.319232</td>\n",
       "    </tr>\n",
       "    <tr>\n",
       "      <th>1</th>\n",
       "      <td>454876</td>\n",
       "      <td>4.906121</td>\n",
       "    </tr>\n",
       "  </tbody>\n",
       "</table>\n",
       "</div>"
      ],
      "text/plain": [
       "    Rating  % of Total rows\n",
       "5  5658940        61.035198\n",
       "4  1741927        18.787769\n",
       "3   922680         9.951679\n",
       "2   493178         5.319232\n",
       "1   454876         4.906121"
      ]
     },
     "execution_count": 22,
     "metadata": {},
     "output_type": "execute_result"
    }
   ],
   "source": [
    "pd.concat([df['rating'].value_counts(), df['rating'].value_counts(normalize=True)*100], axis=1, keys=['Rating', '% of Total rows'])"
   ]
  },
  {
   "cell_type": "code",
   "execution_count": 23,
   "id": "66e78fcb",
   "metadata": {},
   "outputs": [],
   "source": [
    "df['sentiment'] = df['rating'].apply(lambda x: 'positive' if x in [4, 5] else 'negative')"
   ]
  },
  {
   "cell_type": "code",
   "execution_count": 24,
   "id": "19ccacba",
   "metadata": {},
   "outputs": [
    {
     "data": {
      "text/plain": [
       "positive    0.79823\n",
       "negative    0.20177\n",
       "Name: sentiment, dtype: float64"
      ]
     },
     "execution_count": 24,
     "metadata": {},
     "output_type": "execute_result"
    }
   ],
   "source": [
    "df['sentiment'].value_counts(normalize=True)"
   ]
  },
  {
   "cell_type": "code",
   "execution_count": 25,
   "id": "452c2ea7",
   "metadata": {},
   "outputs": [],
   "source": [
    "df.drop(columns=['rating'], inplace=True)\n",
    "df.reset_index(drop=True, inplace=True)"
   ]
  },
  {
   "cell_type": "code",
   "execution_count": 26,
   "id": "dacdc29a",
   "metadata": {},
   "outputs": [
    {
     "data": {
      "text/html": [
       "<div>\n",
       "<style scoped>\n",
       "    .dataframe tbody tr th:only-of-type {\n",
       "        vertical-align: middle;\n",
       "    }\n",
       "\n",
       "    .dataframe tbody tr th {\n",
       "        vertical-align: top;\n",
       "    }\n",
       "\n",
       "    .dataframe thead th {\n",
       "        text-align: right;\n",
       "    }\n",
       "</style>\n",
       "<table border=\"1\" class=\"dataframe\">\n",
       "  <thead>\n",
       "    <tr style=\"text-align: right;\">\n",
       "      <th></th>\n",
       "      <th>review</th>\n",
       "      <th>sentiment</th>\n",
       "    </tr>\n",
       "  </thead>\n",
       "  <tbody>\n",
       "    <tr>\n",
       "      <th>0</th>\n",
       "      <td>Unique designs This book has beautiful photos,...</td>\n",
       "      <td>positive</td>\n",
       "    </tr>\n",
       "    <tr>\n",
       "      <th>1</th>\n",
       "      <td>Great Book Loved their approach in this book a...</td>\n",
       "      <td>positive</td>\n",
       "    </tr>\n",
       "    <tr>\n",
       "      <th>2</th>\n",
       "      <td>Five Stars great</td>\n",
       "      <td>positive</td>\n",
       "    </tr>\n",
       "    <tr>\n",
       "      <th>3</th>\n",
       "      <td>Great Book! Always love the way Eva thinks, an...</td>\n",
       "      <td>positive</td>\n",
       "    </tr>\n",
       "    <tr>\n",
       "      <th>4</th>\n",
       "      <td>Five Stars Nice patterns</td>\n",
       "      <td>positive</td>\n",
       "    </tr>\n",
       "  </tbody>\n",
       "</table>\n",
       "</div>"
      ],
      "text/plain": [
       "                                              review sentiment\n",
       "0  Unique designs This book has beautiful photos,...  positive\n",
       "1  Great Book Loved their approach in this book a...  positive\n",
       "2                                   Five Stars great  positive\n",
       "3  Great Book! Always love the way Eva thinks, an...  positive\n",
       "4                           Five Stars Nice patterns  positive"
      ]
     },
     "execution_count": 26,
     "metadata": {},
     "output_type": "execute_result"
    }
   ],
   "source": [
    "df.head() "
   ]
  },
  {
   "cell_type": "code",
   "execution_count": 27,
   "id": "c81e832f",
   "metadata": {},
   "outputs": [
    {
     "name": "stdout",
     "output_type": "stream",
     "text": [
      "<class 'pandas.core.frame.DataFrame'>\n",
      "RangeIndex: 9271601 entries, 0 to 9271600\n",
      "Data columns (total 2 columns):\n",
      " #   Column     Dtype \n",
      "---  ------     ----- \n",
      " 0   review     object\n",
      " 1   sentiment  object\n",
      "dtypes: object(2)\n",
      "memory usage: 141.5+ MB\n"
     ]
    }
   ],
   "source": [
    "df.info()"
   ]
  },
  {
   "cell_type": "markdown",
   "id": "812505fb",
   "metadata": {},
   "source": [
    "## Saving to file"
   ]
  },
  {
   "cell_type": "code",
   "execution_count": 28,
   "id": "c78e61e5",
   "metadata": {},
   "outputs": [],
   "source": [
    "file_path = os.path.join(os.getcwd(), '..', 'Data','1_Clean.csv')\n",
    "df.to_csv(file_path, index=False)"
   ]
  }
 ],
 "metadata": {
  "kernelspec": {
   "display_name": "Python 3 (ipykernel)",
   "language": "python",
   "name": "python3"
  },
  "language_info": {
   "codemirror_mode": {
    "name": "ipython",
    "version": 3
   },
   "file_extension": ".py",
   "mimetype": "text/x-python",
   "name": "python",
   "nbconvert_exporter": "python",
   "pygments_lexer": "ipython3",
   "version": "3.11.7"
  }
 },
 "nbformat": 4,
 "nbformat_minor": 5
}
