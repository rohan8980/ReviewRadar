{
 "cells": [
  {
   "cell_type": "code",
   "execution_count": 63,
   "id": "4fcfd72c",
   "metadata": {},
   "outputs": [],
   "source": [
    "import pandas as pd\n",
    "import re\n",
    "import os\n",
    "\n",
    "import nltk\n",
    "from nltk.tokenize import word_tokenize\n",
    "from nltk.corpus import stopwords\n",
    "from nltk.stem import PorterStemmer\n",
    "\n",
    "from nltk.corpus import words\n",
    "\n",
    "# nltk.download('stopwords')"
   ]
  },
  {
   "cell_type": "markdown",
   "id": "3483163c",
   "metadata": {},
   "source": [
    "## Read Data from File"
   ]
  },
  {
   "cell_type": "code",
   "execution_count": 3,
   "id": "f06d9cec",
   "metadata": {},
   "outputs": [],
   "source": [
    "file_path = os.path.join(os.getcwd(), '..', 'Data','1_Clean.csv')\n",
    "df = pd.read_csv(file_path)"
   ]
  },
  {
   "cell_type": "code",
   "execution_count": 4,
   "id": "8e363bdd",
   "metadata": {},
   "outputs": [
    {
     "data": {
      "text/html": [
       "<div>\n",
       "<style scoped>\n",
       "    .dataframe tbody tr th:only-of-type {\n",
       "        vertical-align: middle;\n",
       "    }\n",
       "\n",
       "    .dataframe tbody tr th {\n",
       "        vertical-align: top;\n",
       "    }\n",
       "\n",
       "    .dataframe thead th {\n",
       "        text-align: right;\n",
       "    }\n",
       "</style>\n",
       "<table border=\"1\" class=\"dataframe\">\n",
       "  <thead>\n",
       "    <tr style=\"text-align: right;\">\n",
       "      <th></th>\n",
       "      <th>review</th>\n",
       "      <th>sentiment</th>\n",
       "    </tr>\n",
       "  </thead>\n",
       "  <tbody>\n",
       "    <tr>\n",
       "      <th>0</th>\n",
       "      <td>Unique designs This book has beautiful photos,...</td>\n",
       "      <td>positive</td>\n",
       "    </tr>\n",
       "    <tr>\n",
       "      <th>1</th>\n",
       "      <td>Great Book Loved their approach in this book a...</td>\n",
       "      <td>positive</td>\n",
       "    </tr>\n",
       "    <tr>\n",
       "      <th>2</th>\n",
       "      <td>Five Stars great</td>\n",
       "      <td>positive</td>\n",
       "    </tr>\n",
       "    <tr>\n",
       "      <th>3</th>\n",
       "      <td>Great Book! Always love the way Eva thinks, an...</td>\n",
       "      <td>positive</td>\n",
       "    </tr>\n",
       "    <tr>\n",
       "      <th>4</th>\n",
       "      <td>Five Stars Nice patterns</td>\n",
       "      <td>positive</td>\n",
       "    </tr>\n",
       "  </tbody>\n",
       "</table>\n",
       "</div>"
      ],
      "text/plain": [
       "                                              review sentiment\n",
       "0  Unique designs This book has beautiful photos,...  positive\n",
       "1  Great Book Loved their approach in this book a...  positive\n",
       "2                                   Five Stars great  positive\n",
       "3  Great Book! Always love the way Eva thinks, an...  positive\n",
       "4                           Five Stars Nice patterns  positive"
      ]
     },
     "execution_count": 4,
     "metadata": {},
     "output_type": "execute_result"
    }
   ],
   "source": [
    "df.head()"
   ]
  },
  {
   "cell_type": "code",
   "execution_count": null,
   "id": "6e122b0e",
   "metadata": {},
   "outputs": [],
   "source": []
  },
  {
   "cell_type": "code",
   "execution_count": 7,
   "id": "c6d132fc",
   "metadata": {},
   "outputs": [],
   "source": [
    "# df['review'][100:200]"
   ]
  },
  {
   "cell_type": "code",
   "execution_count": null,
   "id": "9254a5a0",
   "metadata": {},
   "outputs": [],
   "source": []
  },
  {
   "cell_type": "code",
   "execution_count": null,
   "id": "2a8fc0f5",
   "metadata": {},
   "outputs": [],
   "source": []
  },
  {
   "cell_type": "code",
   "execution_count": null,
   "id": "fa961f88",
   "metadata": {},
   "outputs": [],
   "source": []
  },
  {
   "cell_type": "code",
   "execution_count": null,
   "id": "c8193099",
   "metadata": {},
   "outputs": [],
   "source": []
  },
  {
   "cell_type": "code",
   "execution_count": 31,
   "id": "71002b61",
   "metadata": {},
   "outputs": [],
   "source": [
    "from bs4 import BeautifulSoup    #html tags\n",
    "import unidecode                 #accented chars\n",
    "import contractions              #expand contractions\n",
    "\n",
    "# !pip install bs4\n",
    "# !pip install contractions"
   ]
  },
  {
   "cell_type": "code",
   "execution_count": null,
   "id": "2a706059",
   "metadata": {},
   "outputs": [],
   "source": [
    "# nlp = spacy.load('en_core_web_md')"
   ]
  },
  {
   "cell_type": "code",
   "execution_count": 9,
   "id": "b0e4d822-950f-4b56-9cdd-471a9dde2878",
   "metadata": {},
   "outputs": [],
   "source": [
    "def lowercasing(text):\n",
    "    ## changing all words to lowercase\n",
    "    return text.lower()"
   ]
  },
  {
   "cell_type": "code",
   "execution_count": 18,
   "id": "d145f877",
   "metadata": {},
   "outputs": [],
   "source": [
    "def remove_html_tags(text):\n",
    "    ## Remove any html tags from reviews using BeautifulSoup and lxml parser\n",
    "    soup = BeautifulSoup(text, 'lxml')\n",
    "    return soup.get_text(separator=\" \")"
   ]
  },
  {
   "cell_type": "code",
   "execution_count": 18,
   "id": "0188a3d7",
   "metadata": {},
   "outputs": [],
   "source": [
    "def expand_contractions(text):      #https://medium.com/@lukei_3514/dealing-with-contractions-in-nlp-d6174300876b\n",
    "    ## expand contractions and abbrevations like don't to do not\n",
    "    return contractions.fix(text)"
   ]
  },
  {
   "cell_type": "code",
   "execution_count": 71,
   "id": "cfa7d87d-6ce9-45af-94c8-acbc8c948f35",
   "metadata": {},
   "outputs": [],
   "source": [
    "word_2_number_dict = {'zero': '0', 'one': '1', 'two': '2',   'three': '3', 'four': '4',\n",
    "                      'five': '5', 'six': '6', 'seven': '7', 'eight': '8', 'nine': '9'}\n",
    "\n",
    "def word_2_number(text):\n",
    "    ## Convert words into numbers like one to 1\n",
    "    text = text.split()\n",
    "    return ' '.join(word_2_number_dict.get(word, word) for word in text)"
   ]
  },
  {
   "cell_type": "code",
   "execution_count": 51,
   "id": "861c5491",
   "metadata": {},
   "outputs": [],
   "source": [
    "def remove_digits(text):\n",
    "    return ''.join(word for word in text if not word.isdigit())"
   ]
  },
  {
   "cell_type": "code",
   "execution_count": null,
   "id": "7a74fd67",
   "metadata": {},
   "outputs": [],
   "source": [
    "def remove_accented_characters(text):\n",
    "    ## remove accented characters from review like Boutiqué or using unicode module\n",
    "    return unidecode.unidecode(text)"
   ]
  },
  {
   "cell_type": "code",
   "execution_count": 21,
   "id": "3d27c6f8-495b-4357-9755-1cfdd1f8f328",
   "metadata": {},
   "outputs": [],
   "source": [
    "def remove_special_characters(text):\n",
    "    ## remove non-alphanumeric (\\w - [a-zA-Z0-9_], \\s - spaces) \n",
    "    return re.sub(r'[^\\w\\s]', '', text)"
   ]
  },
  {
   "cell_type": "code",
   "execution_count": 54,
   "id": "13caf4b7",
   "metadata": {},
   "outputs": [],
   "source": [
    "def remove_whitespaces(text):\n",
    "    ## remove extra whitespaces \n",
    "    return ' '.join(text.strip().split())"
   ]
  },
  {
   "cell_type": "code",
   "execution_count": null,
   "id": "cb5fcb76",
   "metadata": {},
   "outputs": [],
   "source": []
  },
  {
   "cell_type": "code",
   "execution_count": 57,
   "id": "1526a9fa-41fd-4146-bc5e-b4f5fd6bdd01",
   "metadata": {},
   "outputs": [],
   "source": [
    "def create_tokens(text):\n",
    "    ## Create Tokens using nltk. Alternatives: Spacy, torchtext\n",
    "    return nltk.word_tokenize(text)"
   ]
  },
  {
   "cell_type": "code",
   "execution_count": null,
   "id": "ea372d16-b94e-43dd-91da-853640765752",
   "metadata": {},
   "outputs": [],
   "source": [
    "stop_words = set(stopwords.words(\"english\")) - {'no', 'nor', 'not'}\n",
    "\n",
    "def remove_stopwords(tokens):\n",
    "    ## removing stopwords using nltk\n",
    "    return [token for token in tokens if token not in stop_words]\n"
   ]
  },
  {
   "cell_type": "code",
   "execution_count": 83,
   "id": "98d5d233-504c-4ff0-b623-63283700abe7",
   "metadata": {},
   "outputs": [
    {
     "name": "stdout",
     "output_type": "stream",
     "text": [
      "176\n",
      "<class 'set'>\n"
     ]
    }
   ],
   "source": [
    "# ['no', 'not']\n",
    "# stop_words = stopwords.words(\"english\")\n",
    "# negative_stopwords = ['no', 'nor', 'not']\n",
    "# for negative_stopword in negative_stopwords:\n",
    "#     stop_words.remove(negative_stopword)    \n",
    "\n"
   ]
  },
  {
   "cell_type": "code",
   "execution_count": null,
   "id": "849c2a95-fdc6-4fa3-a6be-58ec8d74c609",
   "metadata": {},
   "outputs": [],
   "source": []
  },
  {
   "cell_type": "code",
   "execution_count": null,
   "id": "b4a5a965-6770-4bdb-a1b3-5a81ac2efce5",
   "metadata": {},
   "outputs": [],
   "source": [
    "Lemmatization/ stemming"
   ]
  },
  {
   "cell_type": "code",
   "execution_count": null,
   "id": "40490875-c09d-49fc-a40b-439b782d23e0",
   "metadata": {},
   "outputs": [],
   "source": []
  },
  {
   "cell_type": "code",
   "execution_count": null,
   "id": "b5a60bb6-1556-4b7f-b6ce-63036cad18e5",
   "metadata": {},
   "outputs": [],
   "source": []
  },
  {
   "cell_type": "code",
   "execution_count": null,
   "id": "6b1824a5-bc13-4693-b778-4512a9a8bdef",
   "metadata": {},
   "outputs": [],
   "source": []
  },
  {
   "cell_type": "code",
   "execution_count": 56,
   "id": "2b7d017d-902b-4936-86fc-0db6cdb15e1a",
   "metadata": {},
   "outputs": [
    {
     "name": "stdout",
     "output_type": "stream",
     "text": [
      "*Five stars not four and its good better than 1 enough *\n",
      "*stars not and its good better than enough*\n"
     ]
    }
   ],
   "source": [
    "sample = df.iloc[2]['review']\n",
    "sample = 'Five stars not four and its good better than 1 enough '\n",
    "print('*', sample, '*', sep='')\n",
    "\n",
    "sample = lowercasing(sample)\n",
    "sample = word_2_number(sample)\n",
    "sample = remove_digits(sample)\n",
    "sample = remove_whitespaces(sample)\n",
    "\n",
    "print('*', sample, '*', sep='')"
   ]
  },
  {
   "cell_type": "code",
   "execution_count": 17,
   "id": "00202329",
   "metadata": {},
   "outputs": [
    {
     "name": "stdout",
     "output_type": "stream",
     "text": [
      "* This is   beautiful 1 two 3  *\n",
      "*This is beautiful 1 two 3*\n",
      "* This is   beautiful  two   *\n"
     ]
    }
   ],
   "source": [
    "sample = ' This is   beautiful 1 two 3  '\n",
    "print('*', sample, '*', sep='')\n",
    "print('*',' '.join(sample.strip().split()),'*', sep='')\n",
    "print('*', ''.join(word for word in sample if not word.isdigit()), '*', sep='')"
   ]
  },
  {
   "cell_type": "code",
   "execution_count": 20,
   "id": "1bb10eaa-44ed-46bd-88b4-bce139792b1d",
   "metadata": {},
   "outputs": [
    {
     "data": {
      "text/plain": [
       "' This is   beautiful  two   '"
      ]
     },
     "execution_count": 20,
     "metadata": {},
     "output_type": "execute_result"
    }
   ],
   "source": [
    "remove_digits(sample)"
   ]
  },
  {
   "cell_type": "code",
   "execution_count": null,
   "id": "97eebf9b-3d38-4365-afec-d4a8c0f663a6",
   "metadata": {},
   "outputs": [],
   "source": []
  },
  {
   "cell_type": "code",
   "execution_count": null,
   "id": "f632af88-9608-4222-b164-ea0635bf6d26",
   "metadata": {},
   "outputs": [],
   "source": []
  },
  {
   "cell_type": "code",
   "execution_count": null,
   "id": "188e5819-cde5-41e8-9279-e046d1d29a01",
   "metadata": {},
   "outputs": [],
   "source": []
  },
  {
   "cell_type": "code",
   "execution_count": 31,
   "id": "0469d580",
   "metadata": {},
   "outputs": [
    {
     "name": "stdout",
     "output_type": "stream",
     "text": [
      "Number of available GPUs: 1\n",
      "GPU Name: NVIDIA GeForce RTX 3060 Laptop GPU\n",
      "Tensor on GPU:\n",
      "tensor([[ 0.7417, -0.0793, -0.3640],\n",
      "        [-0.2944, -2.5446,  1.5457],\n",
      "        [ 0.8345, -0.4816, -0.3052]], device='cuda:0')\n"
     ]
    }
   ],
   "source": [
    "import torch\n",
    "\n",
    "# Check if CUDA (GPU) is available\n",
    "if torch.cuda.is_available():\n",
    "    # Print the number of available GPUs\n",
    "    print(f\"Number of available GPUs: {torch.cuda.device_count()}\")\n",
    "    \n",
    "    # Get the name of the GPU\n",
    "    gpu_name = torch.cuda.get_device_name(0)\n",
    "    print(f\"GPU Name: {gpu_name}\")\n",
    "    \n",
    "    # Create a tensor on the GPU\n",
    "    device = torch.device(\"cuda\")\n",
    "    tensor_on_gpu = torch.randn((3, 3)).to(device)\n",
    "    \n",
    "    # Print the tensor on the GPU\n",
    "    print(\"Tensor on GPU:\")\n",
    "    print(tensor_on_gpu)\n",
    "else:\n",
    "    print(\"CUDA is not available. Please check your GPU and CUDA installation.\")\n"
   ]
  },
  {
   "cell_type": "code",
   "execution_count": 24,
   "id": "80b82408",
   "metadata": {},
   "outputs": [],
   "source": [
    "acc = df['review'].apply(lambda x: re.findall(r'\\b\\w*[^\\x00-\\x7F]+\\w*\\b', x))\n"
   ]
  },
  {
   "cell_type": "code",
   "execution_count": 22,
   "id": "831c4784",
   "metadata": {},
   "outputs": [
    {
     "name": "stdout",
     "output_type": "stream",
     "text": [
      "WARNING:tensorflow:From C:\\Users\\patel\\AppData\\Local\\Temp\\ipykernel_1360\\626083044.py:4: is_gpu_available (from tensorflow.python.framework.test_util) is deprecated and will be removed in a future version.\n",
      "Instructions for updating:\n",
      "Use `tf.config.list_physical_devices('GPU')` instead.\n",
      "GPU is not available. Please check your TensorFlow and GPU installation.\n"
     ]
    }
   ],
   "source": [
    "import tensorflow as tf\n",
    "\n",
    "# Check if GPU is available\n",
    "if tf.test.is_gpu_available():\n",
    "    # Print information about available GPUs\n",
    "    physical_devices = tf.config.list_physical_devices('GPU')\n",
    "    print(f\"Number of available GPUs: {len(physical_devices)}\")\n",
    "    \n",
    "    # Print the name of the GPU\n",
    "    gpu_name = tf.test.gpu_device_name()\n",
    "    print(f\"GPU Name: {gpu_name}\")\n",
    "    \n",
    "    # Create a tensor on the GPU\n",
    "    tensor_on_gpu = tf.random.normal((3, 3))\n",
    "    \n",
    "    # Print the tensor on the GPU\n",
    "    print(\"Tensor on GPU:\")\n",
    "    print(tensor_on_gpu.numpy())\n",
    "else:\n",
    "    print(\"GPU is not available. Please check your TensorFlow and GPU installation.\")\n"
   ]
  },
  {
   "cell_type": "code",
   "execution_count": null,
   "id": "71d4a9f7",
   "metadata": {},
   "outputs": [],
   "source": []
  },
  {
   "cell_type": "code",
   "execution_count": null,
   "id": "18ce6d01",
   "metadata": {},
   "outputs": [],
   "source": []
  },
  {
   "cell_type": "code",
   "execution_count": null,
   "id": "be0c4fe4",
   "metadata": {},
   "outputs": [],
   "source": []
  },
  {
   "cell_type": "code",
   "execution_count": null,
   "id": "2c8a1e34",
   "metadata": {},
   "outputs": [],
   "source": []
  },
  {
   "cell_type": "code",
   "execution_count": null,
   "id": "39caa414",
   "metadata": {},
   "outputs": [],
   "source": []
  },
  {
   "cell_type": "code",
   "execution_count": 4,
   "id": "7f299f7f",
   "metadata": {},
   "outputs": [
    {
     "data": {
      "text/plain": [
       "positive    7400867\n",
       "negative    1870734\n",
       "Name: sentiment, dtype: int64"
      ]
     },
     "execution_count": 4,
     "metadata": {},
     "output_type": "execute_result"
    }
   ],
   "source": [
    "df['sentiment'].value_counts()"
   ]
  },
  {
   "cell_type": "markdown",
   "id": "1922ad5b",
   "metadata": {},
   "source": [
    "More positive reviews compared to the negative ones"
   ]
  },
  {
   "cell_type": "code",
   "execution_count": null,
   "id": "f63e7c4d",
   "metadata": {},
   "outputs": [],
   "source": []
  },
  {
   "cell_type": "code",
   "execution_count": null,
   "id": "88728ca1",
   "metadata": {},
   "outputs": [],
   "source": []
  },
  {
   "cell_type": "code",
   "execution_count": 12,
   "id": "85768c42",
   "metadata": {},
   "outputs": [],
   "source": [
    "file_path = os.path.join(os.getcwd(), '..', 'Data','2_PreProcessed.csv')\n",
    "df.to_csv(file_path, index=False)"
   ]
  }
 ],
 "metadata": {
  "kernelspec": {
   "display_name": "Python 3 (ipykernel)",
   "language": "python",
   "name": "python3"
  },
  "language_info": {
   "codemirror_mode": {
    "name": "ipython",
    "version": 3
   },
   "file_extension": ".py",
   "mimetype": "text/x-python",
   "name": "python",
   "nbconvert_exporter": "python",
   "pygments_lexer": "ipython3",
   "version": "3.11.7"
  }
 },
 "nbformat": 4,
 "nbformat_minor": 5
}
