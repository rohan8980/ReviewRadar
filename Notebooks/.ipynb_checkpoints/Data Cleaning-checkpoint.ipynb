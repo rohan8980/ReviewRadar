{
 "cells": [
  {
   "cell_type": "code",
   "execution_count": 1,
   "id": "4c087ae3",
   "metadata": {},
   "outputs": [],
   "source": [
    "import pandas as pd\n",
    "import gzip\n",
    "import json\n",
    "import os\n",
    "import re"
   ]
  },
  {
   "cell_type": "markdown",
   "id": "b17f7f07",
   "metadata": {},
   "source": [
    "## Read data from file"
   ]
  },
  {
   "cell_type": "code",
   "execution_count": 2,
   "id": "33d348be",
   "metadata": {},
   "outputs": [],
   "source": [
    "file_path = os.path.join(os.getcwd(), '..', 'Data','Clothing_Shoes_and_Jewelry_5.json')\n",
    "chunks = []\n",
    "\n",
    "for chunk in pd.read_json(file_path, lines=True, chunksize=100000):\n",
    "    #chunk = chunk[selected_columns]  # Filter the DataFrame to keep only the selected columns\n",
    "    chunks.append(chunk)\n",
    "\n",
    "df = pd.concat(chunks, ignore_index=True)"
   ]
  },
  {
   "cell_type": "code",
   "execution_count": 4,
   "id": "9ff7662b",
   "metadata": {},
   "outputs": [
    {
     "data": {
      "text/html": [
       "<div>\n",
       "<style scoped>\n",
       "    .dataframe tbody tr th:only-of-type {\n",
       "        vertical-align: middle;\n",
       "    }\n",
       "\n",
       "    .dataframe tbody tr th {\n",
       "        vertical-align: top;\n",
       "    }\n",
       "\n",
       "    .dataframe thead th {\n",
       "        text-align: right;\n",
       "    }\n",
       "</style>\n",
       "<table border=\"1\" class=\"dataframe\">\n",
       "  <thead>\n",
       "    <tr style=\"text-align: right;\">\n",
       "      <th></th>\n",
       "      <th>overall</th>\n",
       "      <th>vote</th>\n",
       "      <th>verified</th>\n",
       "      <th>reviewTime</th>\n",
       "      <th>reviewerID</th>\n",
       "      <th>asin</th>\n",
       "      <th>style</th>\n",
       "      <th>reviewerName</th>\n",
       "      <th>reviewText</th>\n",
       "      <th>summary</th>\n",
       "      <th>unixReviewTime</th>\n",
       "      <th>image</th>\n",
       "    </tr>\n",
       "  </thead>\n",
       "  <tbody>\n",
       "    <tr>\n",
       "      <th>0</th>\n",
       "      <td>5</td>\n",
       "      <td>2.0</td>\n",
       "      <td>True</td>\n",
       "      <td>05 4, 2014</td>\n",
       "      <td>A2IC3NZN488KWK</td>\n",
       "      <td>0871167042</td>\n",
       "      <td>{'Format:': ' Paperback'}</td>\n",
       "      <td>Ruby Tulip</td>\n",
       "      <td>This book has beautiful photos, good and under...</td>\n",
       "      <td>Unique designs</td>\n",
       "      <td>1399161600</td>\n",
       "      <td>NaN</td>\n",
       "    </tr>\n",
       "    <tr>\n",
       "      <th>1</th>\n",
       "      <td>5</td>\n",
       "      <td>NaN</td>\n",
       "      <td>True</td>\n",
       "      <td>03 31, 2014</td>\n",
       "      <td>A30FG02C424EJ5</td>\n",
       "      <td>0871167042</td>\n",
       "      <td>{'Format:': ' Paperback'}</td>\n",
       "      <td>NWCancerBaby</td>\n",
       "      <td>Loved their approach in this book and that it ...</td>\n",
       "      <td>Great Book</td>\n",
       "      <td>1396224000</td>\n",
       "      <td>NaN</td>\n",
       "    </tr>\n",
       "    <tr>\n",
       "      <th>2</th>\n",
       "      <td>5</td>\n",
       "      <td>NaN</td>\n",
       "      <td>True</td>\n",
       "      <td>05 30, 2015</td>\n",
       "      <td>A2G9GWQEWWNQUB</td>\n",
       "      <td>0871167042</td>\n",
       "      <td>{'Format:': ' Paperback'}</td>\n",
       "      <td>Pamelarenee</td>\n",
       "      <td>great</td>\n",
       "      <td>Five Stars</td>\n",
       "      <td>1432944000</td>\n",
       "      <td>NaN</td>\n",
       "    </tr>\n",
       "    <tr>\n",
       "      <th>3</th>\n",
       "      <td>5</td>\n",
       "      <td>NaN</td>\n",
       "      <td>True</td>\n",
       "      <td>02 21, 2015</td>\n",
       "      <td>A3NI5OGW35SLY2</td>\n",
       "      <td>0871167042</td>\n",
       "      <td>{'Format:': ' Paperback'}</td>\n",
       "      <td>Gail</td>\n",
       "      <td>Always love the way Eva thinks, and there are ...</td>\n",
       "      <td>Great Book!</td>\n",
       "      <td>1424476800</td>\n",
       "      <td>NaN</td>\n",
       "    </tr>\n",
       "    <tr>\n",
       "      <th>4</th>\n",
       "      <td>5</td>\n",
       "      <td>NaN</td>\n",
       "      <td>True</td>\n",
       "      <td>01 21, 2015</td>\n",
       "      <td>A1OPRA4NE56EV6</td>\n",
       "      <td>0871167042</td>\n",
       "      <td>{'Format:': ' Paperback'}</td>\n",
       "      <td>carol a inman</td>\n",
       "      <td>Nice patterns</td>\n",
       "      <td>Five Stars</td>\n",
       "      <td>1421798400</td>\n",
       "      <td>NaN</td>\n",
       "    </tr>\n",
       "  </tbody>\n",
       "</table>\n",
       "</div>"
      ],
      "text/plain": [
       "   overall vote  verified   reviewTime      reviewerID        asin  \\\n",
       "0        5  2.0      True   05 4, 2014  A2IC3NZN488KWK  0871167042   \n",
       "1        5  NaN      True  03 31, 2014  A30FG02C424EJ5  0871167042   \n",
       "2        5  NaN      True  05 30, 2015  A2G9GWQEWWNQUB  0871167042   \n",
       "3        5  NaN      True  02 21, 2015  A3NI5OGW35SLY2  0871167042   \n",
       "4        5  NaN      True  01 21, 2015  A1OPRA4NE56EV6  0871167042   \n",
       "\n",
       "                       style   reviewerName  \\\n",
       "0  {'Format:': ' Paperback'}     Ruby Tulip   \n",
       "1  {'Format:': ' Paperback'}   NWCancerBaby   \n",
       "2  {'Format:': ' Paperback'}    Pamelarenee   \n",
       "3  {'Format:': ' Paperback'}           Gail   \n",
       "4  {'Format:': ' Paperback'}  carol a inman   \n",
       "\n",
       "                                          reviewText         summary  \\\n",
       "0  This book has beautiful photos, good and under...  Unique designs   \n",
       "1  Loved their approach in this book and that it ...      Great Book   \n",
       "2                                              great      Five Stars   \n",
       "3  Always love the way Eva thinks, and there are ...     Great Book!   \n",
       "4                                      Nice patterns      Five Stars   \n",
       "\n",
       "   unixReviewTime image  \n",
       "0      1399161600   NaN  \n",
       "1      1396224000   NaN  \n",
       "2      1432944000   NaN  \n",
       "3      1424476800   NaN  \n",
       "4      1421798400   NaN  "
      ]
     },
     "execution_count": 4,
     "metadata": {},
     "output_type": "execute_result"
    }
   ],
   "source": [
    "df.head()"
   ]
  },
  {
   "cell_type": "code",
   "execution_count": 5,
   "id": "d45315ea",
   "metadata": {},
   "outputs": [
    {
     "name": "stdout",
     "output_type": "stream",
     "text": [
      "<class 'pandas.core.frame.DataFrame'>\n",
      "RangeIndex: 11285464 entries, 0 to 11285463\n",
      "Data columns (total 12 columns):\n",
      " #   Column          Dtype \n",
      "---  ------          ----- \n",
      " 0   overall         int64 \n",
      " 1   vote            object\n",
      " 2   verified        bool  \n",
      " 3   reviewTime      object\n",
      " 4   reviewerID      object\n",
      " 5   asin            object\n",
      " 6   style           object\n",
      " 7   reviewerName    object\n",
      " 8   reviewText      object\n",
      " 9   summary         object\n",
      " 10  unixReviewTime  int64 \n",
      " 11  image           object\n",
      "dtypes: bool(1), int64(2), object(9)\n",
      "memory usage: 957.9+ MB\n"
     ]
    }
   ],
   "source": [
    "df.info()"
   ]
  },
  {
   "cell_type": "markdown",
   "id": "4c2fc16a",
   "metadata": {},
   "source": [
    "## Feature Selection"
   ]
  },
  {
   "cell_type": "code",
   "execution_count": 6,
   "id": "894ed608",
   "metadata": {},
   "outputs": [],
   "source": [
    "selected_columns = [\"overall\", \"summary\", \"reviewText\"]\n",
    "df = df[selected_columns]"
   ]
  },
  {
   "cell_type": "markdown",
   "id": "c3bf4368",
   "metadata": {},
   "source": [
    "## Merging `summary` and `reviewText` into `reviewText`"
   ]
  },
  {
   "cell_type": "code",
   "execution_count": 10,
   "id": "d2e019f9",
   "metadata": {},
   "outputs": [],
   "source": [
    "df['reviewText']  = df['summary'].fillna('') + ' ' + df['reviewText'].fillna('')"
   ]
  },
  {
   "cell_type": "code",
   "execution_count": 12,
   "id": "5b526d3b",
   "metadata": {},
   "outputs": [],
   "source": [
    "df['reviewText'] = df['reviewText'].str.strip()"
   ]
  },
  {
   "cell_type": "code",
   "execution_count": 7,
   "id": "f9e21b8f",
   "metadata": {
    "scrolled": true
   },
   "outputs": [
    {
     "name": "stdout",
     "output_type": "stream",
     "text": [
      "<class 'pandas.core.frame.DataFrame'>\n",
      "RangeIndex: 11285464 entries, 0 to 11285463\n",
      "Data columns (total 4 columns):\n",
      " #   Column      Dtype \n",
      "---  ------      ----- \n",
      " 0   asin        object\n",
      " 1   overall     int64 \n",
      " 2   summary     object\n",
      " 3   reviewText  object\n",
      "dtypes: int64(1), object(3)\n",
      "memory usage: 344.4+ MB\n"
     ]
    }
   ],
   "source": [
    "df.info()"
   ]
  },
  {
   "cell_type": "markdown",
   "id": "6465ce77",
   "metadata": {},
   "source": [
    "## Merging `summary` and `reviewText` into `reviewText`"
   ]
  },
  {
   "cell_type": "code",
   "execution_count": 10,
   "id": "75cc97d7",
   "metadata": {},
   "outputs": [],
   "source": [
    "df['reviewText']  = df['summary'].fillna('') + ' ' + df['reviewText'].fillna('')"
   ]
  },
  {
   "cell_type": "code",
   "execution_count": 12,
   "id": "1763144f",
   "metadata": {},
   "outputs": [],
   "source": [
    "df['reviewText'] = df['reviewText'].str.strip()"
   ]
  },
  {
   "cell_type": "code",
   "execution_count": 13,
   "id": "caf5e24f",
   "metadata": {},
   "outputs": [
    {
     "data": {
      "text/html": [
       "<div>\n",
       "<style scoped>\n",
       "    .dataframe tbody tr th:only-of-type {\n",
       "        vertical-align: middle;\n",
       "    }\n",
       "\n",
       "    .dataframe tbody tr th {\n",
       "        vertical-align: top;\n",
       "    }\n",
       "\n",
       "    .dataframe thead th {\n",
       "        text-align: right;\n",
       "    }\n",
       "</style>\n",
       "<table border=\"1\" class=\"dataframe\">\n",
       "  <thead>\n",
       "    <tr style=\"text-align: right;\">\n",
       "      <th></th>\n",
       "      <th>asin</th>\n",
       "      <th>overall</th>\n",
       "      <th>summary</th>\n",
       "      <th>reviewText</th>\n",
       "    </tr>\n",
       "  </thead>\n",
       "  <tbody>\n",
       "    <tr>\n",
       "      <th>0</th>\n",
       "      <td>0871167042</td>\n",
       "      <td>5</td>\n",
       "      <td>Unique designs</td>\n",
       "      <td>Unique designs This book has beautiful photos,...</td>\n",
       "    </tr>\n",
       "    <tr>\n",
       "      <th>1</th>\n",
       "      <td>0871167042</td>\n",
       "      <td>5</td>\n",
       "      <td>Great Book</td>\n",
       "      <td>Great Book Loved their approach in this book a...</td>\n",
       "    </tr>\n",
       "    <tr>\n",
       "      <th>2</th>\n",
       "      <td>0871167042</td>\n",
       "      <td>5</td>\n",
       "      <td>Five Stars</td>\n",
       "      <td>Five Stars great</td>\n",
       "    </tr>\n",
       "    <tr>\n",
       "      <th>3</th>\n",
       "      <td>0871167042</td>\n",
       "      <td>5</td>\n",
       "      <td>Great Book!</td>\n",
       "      <td>Great Book! Always love the way Eva thinks, an...</td>\n",
       "    </tr>\n",
       "    <tr>\n",
       "      <th>4</th>\n",
       "      <td>0871167042</td>\n",
       "      <td>5</td>\n",
       "      <td>Five Stars</td>\n",
       "      <td>Five Stars Nice patterns</td>\n",
       "    </tr>\n",
       "  </tbody>\n",
       "</table>\n",
       "</div>"
      ],
      "text/plain": [
       "         asin  overall         summary  \\\n",
       "0  0871167042        5  Unique designs   \n",
       "1  0871167042        5      Great Book   \n",
       "2  0871167042        5      Five Stars   \n",
       "3  0871167042        5     Great Book!   \n",
       "4  0871167042        5      Five Stars   \n",
       "\n",
       "                                          reviewText  \n",
       "0  Unique designs This book has beautiful photos,...  \n",
       "1  Great Book Loved their approach in this book a...  \n",
       "2                                   Five Stars great  \n",
       "3  Great Book! Always love the way Eva thinks, an...  \n",
       "4                           Five Stars Nice patterns  "
      ]
     },
     "execution_count": 13,
     "metadata": {},
     "output_type": "execute_result"
    }
   ],
   "source": [
    "df.head()"
   ]
  },
  {
   "cell_type": "code",
   "execution_count": null,
   "id": "313378a6",
   "metadata": {},
   "outputs": [],
   "source": [
    "df.drop(['summary'],inplace=True)"
   ]
  },
  {
   "cell_type": "code",
   "execution_count": 18,
   "id": "c357152b",
   "metadata": {},
   "outputs": [
    {
     "name": "stdout",
     "output_type": "stream",
     "text": [
      "<class 'pandas.core.frame.DataFrame'>\n",
      "RangeIndex: 11285464 entries, 0 to 11285463\n",
      "Data columns (total 3 columns):\n",
      " #   Column      Dtype \n",
      "---  ------      ----- \n",
      " 0   asin        object\n",
      " 1   overall     int64 \n",
      " 2   reviewText  object\n",
      "dtypes: int64(1), object(2)\n",
      "memory usage: 258.3+ MB\n"
     ]
    }
   ],
   "source": [
    "df.info()"
   ]
  },
  {
   "cell_type": "markdown",
   "id": "b698cef9",
   "metadata": {},
   "source": [
    "## Checking for NA"
   ]
  },
  {
   "cell_type": "code",
   "execution_count": 8,
   "id": "97ee7b78",
   "metadata": {
    "scrolled": true
   },
   "outputs": [
    {
     "data": {
      "image/png": "[encoded data removed]",
      "text/plain": [
       "<Figure size 1800x300 with 2 Axes>"
      ]
     },
     "metadata": {},
     "output_type": "display_data"
    }
   ],
   "source": [
    "import missingno as msno # pip install missingno\n",
    "msno.matrix(df, figsize=(18, 3), label_rotation=20);"
   ]
  },
  {
   "cell_type": "code",
   "execution_count": 19,
   "id": "8b342b72",
   "metadata": {},
   "outputs": [
    {
     "data": {
      "text/plain": [
       "asin          0\n",
       "overall       0\n",
       "reviewText    0\n",
       "dtype: int64"
      ]
     },
     "execution_count": 19,
     "metadata": {},
     "output_type": "execute_result"
    }
   ],
   "source": [
    "df.isna().sum()"
   ]
  },
  {
   "cell_type": "markdown",
   "id": "761801ac",
   "metadata": {},
   "source": [
    "## Renaming columns"
   ]
  },
  {
   "cell_type": "code",
   "execution_count": 20,
   "id": "4b227583",
   "metadata": {},
   "outputs": [],
   "source": [
    "df.rename(columns={'overall': 'rating', 'reviewText': 'review'}, inplace=True)"
   ]
  },
  {
   "cell_type": "code",
   "execution_count": 21,
   "id": "209b7bb6",
   "metadata": {},
   "outputs": [
    {
     "data": {
      "text/html": [
       "<div>\n",
       "<style scoped>\n",
       "    .dataframe tbody tr th:only-of-type {\n",
       "        vertical-align: middle;\n",
       "    }\n",
       "\n",
       "    .dataframe tbody tr th {\n",
       "        vertical-align: top;\n",
       "    }\n",
       "\n",
       "    .dataframe thead th {\n",
       "        text-align: right;\n",
       "    }\n",
       "</style>\n",
       "<table border=\"1\" class=\"dataframe\">\n",
       "  <thead>\n",
       "    <tr style=\"text-align: right;\">\n",
       "      <th></th>\n",
       "      <th>product</th>\n",
       "      <th>rating</th>\n",
       "      <th>review</th>\n",
       "    </tr>\n",
       "  </thead>\n",
       "  <tbody>\n",
       "    <tr>\n",
       "      <th>0</th>\n",
       "      <td>0871167042</td>\n",
       "      <td>5</td>\n",
       "      <td>Unique designs This book has beautiful photos,...</td>\n",
       "    </tr>\n",
       "    <tr>\n",
       "      <th>1</th>\n",
       "      <td>0871167042</td>\n",
       "      <td>5</td>\n",
       "      <td>Great Book Loved their approach in this book a...</td>\n",
       "    </tr>\n",
       "    <tr>\n",
       "      <th>2</th>\n",
       "      <td>0871167042</td>\n",
       "      <td>5</td>\n",
       "      <td>Five Stars great</td>\n",
       "    </tr>\n",
       "    <tr>\n",
       "      <th>3</th>\n",
       "      <td>0871167042</td>\n",
       "      <td>5</td>\n",
       "      <td>Great Book! Always love the way Eva thinks, an...</td>\n",
       "    </tr>\n",
       "    <tr>\n",
       "      <th>4</th>\n",
       "      <td>0871167042</td>\n",
       "      <td>5</td>\n",
       "      <td>Five Stars Nice patterns</td>\n",
       "    </tr>\n",
       "  </tbody>\n",
       "</table>\n",
       "</div>"
      ],
      "text/plain": [
       "      product  rating                                             review\n",
       "0  0871167042       5  Unique designs This book has beautiful photos,...\n",
       "1  0871167042       5  Great Book Loved their approach in this book a...\n",
       "2  0871167042       5                                   Five Stars great\n",
       "3  0871167042       5  Great Book! Always love the way Eva thinks, an...\n",
       "4  0871167042       5                           Five Stars Nice patterns"
      ]
     },
     "execution_count": 21,
     "metadata": {},
     "output_type": "execute_result"
    }
   ],
   "source": [
    "df.head()"
   ]
  },
  {
   "cell_type": "markdown",
   "id": "96e24723",
   "metadata": {},
   "source": [
    "## Lowercasing, removing punctuation and whitespaces"
   ]
  },
  {
   "cell_type": "code",
   "execution_count": 23,
   "id": "983e0545",
   "metadata": {},
   "outputs": [],
   "source": [
    "df['review'] = df['review'].apply(lambda x: x.lower())"
   ]
  },
  {
   "cell_type": "code",
   "execution_count": 26,
   "id": "b5470cc9",
   "metadata": {},
   "outputs": [],
   "source": [
    "df['review'] = df['review'].apply(lambda x: re.sub(r'[^\\w\\s]', '', x))\n",
    "df['review'] = df['review'].apply(lambda x: re.sub(r'\\s+', ' ', x).strip())"
   ]
  },
  {
   "cell_type": "code",
   "execution_count": 27,
   "id": "c6d132fc",
   "metadata": {},
   "outputs": [
    {
     "data": {
      "text/html": [
       "<div>\n",
       "<style scoped>\n",
       "    .dataframe tbody tr th:only-of-type {\n",
       "        vertical-align: middle;\n",
       "    }\n",
       "\n",
       "    .dataframe tbody tr th {\n",
       "        vertical-align: top;\n",
       "    }\n",
       "\n",
       "    .dataframe thead th {\n",
       "        text-align: right;\n",
       "    }\n",
       "</style>\n",
       "<table border=\"1\" class=\"dataframe\">\n",
       "  <thead>\n",
       "    <tr style=\"text-align: right;\">\n",
       "      <th></th>\n",
       "      <th>product</th>\n",
       "      <th>rating</th>\n",
       "      <th>review</th>\n",
       "    </tr>\n",
       "  </thead>\n",
       "  <tbody>\n",
       "    <tr>\n",
       "      <th>0</th>\n",
       "      <td>0871167042</td>\n",
       "      <td>5</td>\n",
       "      <td>unique designs this book has beautiful photos ...</td>\n",
       "    </tr>\n",
       "    <tr>\n",
       "      <th>1</th>\n",
       "      <td>0871167042</td>\n",
       "      <td>5</td>\n",
       "      <td>great book loved their approach in this book a...</td>\n",
       "    </tr>\n",
       "    <tr>\n",
       "      <th>2</th>\n",
       "      <td>0871167042</td>\n",
       "      <td>5</td>\n",
       "      <td>five stars great</td>\n",
       "    </tr>\n",
       "    <tr>\n",
       "      <th>3</th>\n",
       "      <td>0871167042</td>\n",
       "      <td>5</td>\n",
       "      <td>great book always love the way eva thinks and ...</td>\n",
       "    </tr>\n",
       "    <tr>\n",
       "      <th>4</th>\n",
       "      <td>0871167042</td>\n",
       "      <td>5</td>\n",
       "      <td>five stars nice patterns</td>\n",
       "    </tr>\n",
       "  </tbody>\n",
       "</table>\n",
       "</div>"
      ],
      "text/plain": [
       "      product  rating                                             review\n",
       "0  0871167042       5  unique designs this book has beautiful photos ...\n",
       "1  0871167042       5  great book loved their approach in this book a...\n",
       "2  0871167042       5                                   five stars great\n",
       "3  0871167042       5  great book always love the way eva thinks and ...\n",
       "4  0871167042       5                           five stars nice patterns"
      ]
     },
     "execution_count": 27,
     "metadata": {},
     "output_type": "execute_result"
    }
   ],
   "source": [
    "df.head()"
   ]
  },
  {
   "cell_type": "markdown",
   "id": "28b3461f",
   "metadata": {},
   "source": [
    "More positive reviews compared to the negative ones"
   ]
  },
  {
   "cell_type": "code",
   "execution_count": null,
   "id": "fcba8771",
   "metadata": {},
   "outputs": [],
   "source": [
    "df['rating'].value_counts()"
   ]
  },
  {
   "cell_type": "markdown",
   "id": "812505fb",
   "metadata": {},
   "source": [
    "## Saving to file"
   ]
  },
  {
   "cell_type": "code",
   "execution_count": 28,
   "id": "c78e61e5",
   "metadata": {},
   "outputs": [],
   "source": [
    "file_path = os.path.join(os.getcwd(), '..', 'Data','1_Clean.csv')\n",
    "df.to_csv(file_path, index=False)"
   ]
  }
 ],
 "metadata": {
  "kernelspec": {
   "display_name": "Python 3 (ipykernel)",
   "language": "python",
   "name": "python3"
  },
  "language_info": {
   "codemirror_mode": {
    "name": "ipython",
    "version": 3
   },
   "file_extension": ".py",
   "mimetype": "text/x-python",
   "name": "python",
   "nbconvert_exporter": "python",
   "pygments_lexer": "ipython3",
   "version": "3.9.13"
  }
 },
 "nbformat": 4,
 "nbformat_minor": 5
}
